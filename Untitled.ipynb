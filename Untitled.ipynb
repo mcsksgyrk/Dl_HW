{
 "cells": [
  {
   "cell_type": "code",
   "execution_count": 42,
   "metadata": {},
   "outputs": [
    {
     "name": "stdout",
     "output_type": "stream",
     "text": [
      "1      1.264875\n",
      "2      0.751837\n",
      "3      0.877998\n",
      "4      0.641590\n",
      "5      0.886657\n",
      "6      0.900298\n",
      "7      0.084472\n",
      "8      0.092922\n",
      "9      0.637629\n",
      "11     0.332378\n",
      "12     0.226308\n",
      "17     0.018100\n",
      "18     0.610743\n",
      "19     0.630905\n",
      "20     1.087568\n",
      "21     0.796312\n",
      "22     0.322765\n",
      "23     0.801125\n",
      "24     0.578976\n",
      "26     0.155526\n",
      "27     0.382903\n",
      "28     0.082447\n",
      "29     0.546870\n",
      "30     0.597248\n",
      "31     0.716608\n",
      "32     0.590557\n",
      "33     1.541140\n",
      "34     0.210657\n",
      "35     0.217047\n",
      "36     0.851234\n",
      "37     0.363118\n",
      "38     0.044813\n",
      "39     0.675155\n",
      "40     2.922779\n",
      "41     0.319192\n",
      "142    1.541140\n",
      "143    2.922779\n",
      "110    1.256923\n",
      "113    0.089606\n",
      "114    0.044049\n",
      "115    1.121760\n",
      "116    1.123267\n",
      "125    0.522001\n",
      "dtype: float64\n"
     ]
    }
   ],
   "source": [
    "# load a network\n",
    "from epynet import Network\n",
    "network = Network('anytown_master.inp')\n",
    "# solve network\n",
    "network.solve()\n",
    "\n",
    "print(network.pipes.velocity)"
   ]
  },
  {
   "cell_type": "code",
   "execution_count": null,
   "metadata": {},
   "outputs": [],
   "source": []
  },
  {
   "cell_type": "code",
   "execution_count": null,
   "metadata": {},
   "outputs": [],
   "source": []
  }
 ],
 "metadata": {
  "kernelspec": {
   "display_name": "Python 3",
   "language": "python",
   "name": "python3"
  },
  "language_info": {
   "codemirror_mode": {
    "name": "ipython",
    "version": 3
   },
   "file_extension": ".py",
   "mimetype": "text/x-python",
   "name": "python",
   "nbconvert_exporter": "python",
   "pygments_lexer": "ipython3",
   "version": "3.7.1"
  }
 },
 "nbformat": 4,
 "nbformat_minor": 2
}
